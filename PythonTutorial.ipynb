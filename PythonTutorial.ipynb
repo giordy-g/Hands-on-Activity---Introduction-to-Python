{
    "metadata": {
        "kernelspec": {
            "name": "python3",
            "display_name": "Python 3 (ipykernel)",
            "language": "python"
        }
    },
    "nbformat": 4,
    "nbformat_minor": 2,
    "cells": [
        {
            "attachments": {},
            "cell_type": "markdown",
            "metadata": {},
            "source": [
                "To run the code in individual sections, hover the mouse on the left side of the code space and click the *play/run* button.\n",
                "You can also use keys *\"Shift + Return\"*"
            ]
        },
        {
            "cell_type": "code",
            "execution_count": 1,
            "metadata": {},
            "outputs": [
                {
                    "name": "stdout",
                    "output_type": "stream",
                    "text": "Hello World\n"
                }
            ],
            "source": [
                "print(\"Hello World\")"
            ]
        },
        {
            "attachments": {},
            "cell_type": "markdown",
            "metadata": {},
            "source": [
                "# **Variables**"
            ]
        },
        {
            "cell_type": "code",
            "execution_count": 1,
            "metadata": {},
            "outputs": [
                {
                    "name": "stdout",
                    "output_type": "stream",
                    "text": "20\n"
                }
            ],
            "source": [
                "age = 20\n",
                "print(age)"
            ]
        },
        {
            "attachments": {},
            "cell_type": "markdown",
            "metadata": {},
            "source": [
                "*Practice*: Change the value of age and print it out in the following space."
            ]
        },
        {
            "cell_type": "code",
            "execution_count": 2,
            "metadata": {},
            "outputs": [
                {
                    "name": "stdout",
                    "output_type": "stream",
                    "text": "45\n"
                }
            ],
            "source": [
                "age = 45\n",
                "print(age)"
            ]
        },
        {
            "attachments": {},
            "cell_type": "markdown",
            "metadata": {},
            "source": [
                "Deep Dive: different **types** of variables."
            ]
        },
        {
            "cell_type": "code",
            "execution_count": 4,
            "metadata": {},
            "outputs": [
                {
                    "name": "stdout",
                    "output_type": "stream",
                    "text": "Mr. Doe is 20 years old\n"
                }
            ],
            "source": [
                "age = 20\n",
                "price = 19.99 \n",
                "first_name = \"Mr. Doe\"\n",
                "is_online = True\n",
                "print(first_name + \" is \" + str(age) + \" years old\")"
            ]
        },
        {
            "attachments": {},
            "cell_type": "markdown",
            "metadata": {},
            "source": [
                "*Exercise*: Check in a new patient named James Smith, who is 20 years old."
            ]
        },
        {
            "cell_type": "code",
            "execution_count": 46,
            "metadata": {},
            "outputs": [
                {
                    "name": "stdout",
                    "output_type": "stream",
                    "text": "Welcome, James Smith. You indicated that you are 20 years old.\n"
                }
            ],
            "source": [
                "name = input(\"Please enter patient's name: \")\n",
                "age = input(\" Please enter patient's age: \")\n",
                "print(\"Welcome, \" + name + \". You indicated that you are \" + age + \" years old.\")\n",
                ""
            ]
        },
        {
            "attachments": {},
            "cell_type": "markdown",
            "metadata": {},
            "source": [
                "**Input**"
            ]
        },
        {
            "cell_type": "code",
            "execution_count": 48,
            "metadata": {},
            "outputs": [
                {
                    "name": "stdout",
                    "output_type": "stream",
                    "text": "Hello John Doe\n"
                }
            ],
            "source": [
                "name = input(\"what is your name\")\n",
                "print(\"Hello \" + name)"
            ]
        },
        {
            "attachments": {},
            "cell_type": "markdown",
            "metadata": {},
            "source": [
                "**Type conversion**"
            ]
        },
        {
            "attachments": {},
            "cell_type": "markdown",
            "metadata": {},
            "source": [
                "1. Error: the input is read in as a string, which cannot be operated on with a number."
            ]
        },
        {
            "cell_type": "code",
            "execution_count": 7,
            "metadata": {},
            "outputs": [],
            "source": [
                "birth_year = input(\"Enter your birth year\")\n",
                "age = 2021 - birth_year\n",
                "print (age)"
            ]
        },
        {
            "attachments": {},
            "cell_type": "markdown",
            "metadata": {},
            "source": [
                "Fixing the code: convert string input to integer"
            ]
        },
        {
            "cell_type": "code",
            "execution_count": 5,
            "metadata": {},
            "outputs": [],
            "source": [
                "birth_year = input(\"Enter your birth year\")\n",
                "age = 2021 - int(birth_year)\n",
                "print (age)"
            ]
        },
        {
            "attachments": {},
            "cell_type": "markdown",
            "metadata": {},
            "source": [
                "Exercise: Basic calculator. Adding two numbers"
            ]
        },
        {
            "cell_type": "code",
            "execution_count": 49,
            "metadata": {},
            "outputs": [
                {
                    "name": "stdout",
                    "output_type": "stream",
                    "text": "10+5=15\n"
                }
            ],
            "source": [
                "num1 = input(\"Enter the first number\")\n",
                "num2 = input(\"Enter the second number\")\n",
                "result = int(num1) + int(num2)\n",
                "print(num1 + \"+\" + num2 + \"=\" + str(result))"
            ]
        },
        {
            "attachments": {},
            "cell_type": "markdown",
            "metadata": {},
            "source": [
                "**Strings**"
            ]
        },
        {
            "cell_type": "code",
            "execution_count": 50,
            "metadata": {},
            "outputs": [
                {
                    "name": "stdout",
                    "output_type": "stream",
                    "text": "1\n"
                }
            ],
            "source": [
                "# The string class contains a lot of built-in methods\n",
                "course = 'Discover AI'\n",
                "print(course.find('i'))"
            ]
        },
        {
            "attachments": {},
            "cell_type": "markdown",
            "metadata": {},
            "source": [
                "# **Operators**"
            ]
        },
        {
            "attachments": {},
            "cell_type": "markdown",
            "metadata": {},
            "source": [
                "1. Arthmetic Operators"
            ]
        },
        {
            "cell_type": "code",
            "execution_count": 51,
            "metadata": {},
            "outputs": [
                {
                    "name": "stdout",
                    "output_type": "stream",
                    "text": "10 + 3 = 13\n10 - 3 = 7\n10 * 3 = 30\n10 / 3 = 3.3333333333333335\n10 //3 = 3\n10 % 3 = 1\n10 ** 3 = 1000\n"
                }
            ],
            "source": [
                "# Addition\n",
                "print(\"10 + 3 = \" + str(10 + 3))\n",
                "\n",
                "# Subtraction\n",
                "print(\"10 - 3 = \" + str(10 - 3))\n",
                "\n",
                "# Multiplication\n",
                "print(\"10 * 3 = \" + str(10 * 3))\n",
                "\n",
                "# Division\n",
                "print(\"10 / 3 = \" + str(10 / 3))\n",
                "\n",
                "# Division with integer\n",
                "print(\"10 //3 = \" + str(10 // 3))\n",
                "\n",
                "# Modulus \n",
                "print(\"10 % 3 = \" + str(10 % 3))\n",
                "\n",
                "# Exponent\n",
                "print(\"10 ** 3 = \" + str(10 ** 3))"
            ]
        },
        {
            "cell_type": "code",
            "execution_count": 52,
            "metadata": {},
            "outputs": [
                {
                    "name": "stdout",
                    "output_type": "stream",
                    "text": "13\n"
                }
            ],
            "source": [
                "# Augmented operators\n",
                "x = 10\n",
                "x += 3\n",
                "print(x)"
            ]
        },
        {
            "attachments": {},
            "cell_type": "markdown",
            "metadata": {},
            "source": [
                "Operator Precedence"
            ]
        },
        {
            "cell_type": "code",
            "execution_count": 54,
            "metadata": {},
            "outputs": [
                {
                    "name": "stdout",
                    "output_type": "stream",
                    "text": "16\n"
                }
            ],
            "source": [
                "x = 10 + 3 * 2\n",
                "print (x)"
            ]
        },
        {
            "attachments": {},
            "cell_type": "markdown",
            "metadata": {},
            "source": [
                "2. Comparison Operators"
            ]
        },
        {
            "cell_type": "code",
            "execution_count": 55,
            "metadata": {},
            "outputs": [
                {
                    "name": "stdout",
                    "output_type": "stream",
                    "text": "10 \u003e 3: True\n3 \u003e= 3: True\n10 \u003c 3: False\n10 \u003c= 3: False\n10 == 3: False\n10 != 3: True\n"
                }
            ],
            "source": [
                "# They return boolean (True/False) solutions\n",
                "\n",
                "# Greater than\n",
                "print(\"10 \u003e 3: \" + str(10 \u003e 3))\n",
                "# Greater than or equal to\n",
                "print(\"3 \u003e= 3: \" + str(10 \u003e= 3))\n",
                "# Less than\n",
                "print(\"10 \u003c 3: \" + str(10 \u003c 3))\n",
                "# Less than or equal to\n",
                "print(\"10 \u003c= 3: \" + str(10 \u003c= 3))\n",
                "# Equal\n",
                "print(\"10 == 3: \" + str(10 == 3))\n",
                "# Not equal\n",
                "print(\"10 != 3: \" + str(10 != 3))\n",
                ""
            ]
        },
        {
            "attachments": {},
            "cell_type": "markdown",
            "metadata": {},
            "source": [
                "4. Logical Operators"
            ]
        },
        {
            "cell_type": "code",
            "execution_count": 57,
            "metadata": {},
            "outputs": [
                {
                    "name": "stdout",
                    "output_type": "stream",
                    "text": "Price between 10 and 30: True\nPrice is either 10 or 30: False\nPrice is less than 30: False\n"
                }
            ],
            "source": [
                "# Used for building complex rules and conditions\n",
                "\n",
                "# Using \"and\" check that a price is between two values\n",
                "price = 25\n",
                "print(\"Price between 10 and 30: \" + str(price \u003e 10 and price \u003c 30))\n",
                "\n",
                "# Using \"or\" check that a price is either of two values\n",
                "price = 25\n",
                "print(\"Price is either 10 or 30: \" + str(price == 10 or price == 30))\n",
                "\n",
                "# Using \"not\" check that a price is less than a value\n",
                "price = 25\n",
                "print(\"Price is less than 30: \" + str(not price \u003c 30))"
            ]
        },
        {
            "attachments": {},
            "cell_type": "markdown",
            "metadata": {},
            "source": [
                "# **If Statements**"
            ]
        },
        {
            "cell_type": "code",
            "execution_count": 58,
            "metadata": {},
            "outputs": [
                {
                    "name": "stdout",
                    "output_type": "stream",
                    "text": "It's a hot day\nDrink plenty of water\nDone\n"
                }
            ],
            "source": [
                "# Used to make decisions\n",
                "\n",
                "# Print a message if the temperature is \u003e 30\n",
                "temperature = 35\n",
                "if(temperature \u003e 30):\n",
                "    print(\"It's a hot day\")\n",
                "    print(\"Drink plenty of water\")\n",
                "# Everything below will be outside of the conditional statement\n",
                "print (\"Done\")"
            ]
        },
        {
            "attachments": {},
            "cell_type": "markdown",
            "metadata": {},
            "source": [
                "*Practice* Add a condition for printing \"It's a nice day\" if the temperature is between 20 and 30"
            ]
        },
        {
            "cell_type": "code",
            "execution_count": 64,
            "metadata": {},
            "outputs": [
                {
                    "name": "stdout",
                    "output_type": "stream",
                    "text": "It's a nice day\n"
                }
            ],
            "source": [
                "temperature = 25\n",
                "if(temperature \u003e 30):\n",
                "    print(\"It's a hot day\")\n",
                "    print(\"Drink plenty of water\")\n",
                "elif(temperature \u003e 20 and temperature \u003c 30):\n",
                "    print(\"It's a nice day\")\n",
                ""
            ]
        },
        {
            "attachments": {},
            "cell_type": "markdown",
            "metadata": {},
            "source": [
                "**Exercise**\n",
                "\n",
                "* Get weight as input\n",
                "* Get unit as input (Kgs or Lbs)\n",
                "* Display weight converted to the opposite unit\n",
                "\n",
                ""
            ]
        },
        {
            "cell_type": "code",
            "execution_count": 73,
            "metadata": {},
            "outputs": [
                {
                    "name": "stdout",
                    "output_type": "stream",
                    "text": "Weight in Lbs is: 44.44444444444444\n"
                }
            ],
            "source": [
                "weight = input(\"Please enter weight \")\n",
                "unit = input(\"(K)gs or (L)bs?\")\n",
                "if unit.upper() == \"K\":\n",
                "    converted = float(weight) / 0.45\n",
                "    print(\"Weight in Lbs is: \" + str(converted))\n",
                "else: \n",
                "    converted = float(weight) * 0.45\n",
                "    print(\"Weight in Kgs is: \" + str(converted))\n",
                ""
            ]
        },
        {
            "attachments": {},
            "cell_type": "markdown",
            "metadata": {},
            "source": [
                "# **Loops**"
            ]
        },
        {
            "cell_type": "code",
            "execution_count": 75,
            "metadata": {},
            "outputs": [
                {
                    "name": "stdout",
                    "output_type": "stream",
                    "text": "*\n**\n***\n****\n*****\n******\n*******\n********\n*********\n**********\n"
                }
            ],
            "source": [
                "i = 1\n",
                "while i \u003c= 10:\n",
                "    print(i * '*')\n",
                "    i = i + 1\n",
                ""
            ]
        },
        {
            "attachments": {},
            "cell_type": "markdown",
            "metadata": {},
            "source": [
                "# **Lists**"
            ]
        },
        {
            "cell_type": "code",
            "execution_count": 82,
            "metadata": {},
            "outputs": [
                {
                    "name": "stdout",
                    "output_type": "stream",
                    "text": "['Jane', 'John', 'Mary', 'Sam', 'Safi']\n['Jane', 'John', 'Mary']\n['Martin', 'Jane', 'John', 'Mary', 'Sam', 'Safi']\n"
                }
            ],
            "source": [
                "# list of names\n",
                "names = [\"Jane\", \"John\", \"Mary\", \"Sam\", \"Safi\"]\n",
                "print(names)\n",
                "\n",
                "# print the first three names\n",
                "print(names[0:3])\n",
                "\n",
                "# Add a name at the head of the list\n",
                "names.insert(0, \"Martin\")\n",
                "print(names)"
            ]
        },
        {
            "attachments": {},
            "cell_type": "markdown",
            "metadata": {},
            "source": [
                "List methods"
            ]
        },
        {
            "cell_type": "code",
            "execution_count": 93,
            "metadata": {},
            "outputs": [
                {
                    "name": "stdout",
                    "output_type": "stream",
                    "text": "False\n0\n"
                }
            ],
            "source": [
                "numbers = [1, 2, 3, 4, 5]\n",
                "# Append\n",
                "numbers.append(6)\n",
                "# Insert\n",
                "numbers.insert(0, -1)\n",
                "\n",
                "\n",
                "# Remove\n",
                "numbers.remove(3)\n",
                "\n",
                "# Clear\n",
                "numbers.clear()\n",
                "# In \n",
                "print(10 in numbers)\n",
                "# Len\n",
                "print (len(numbers))"
            ]
        },
        {
            "attachments": {},
            "cell_type": "markdown",
            "metadata": {},
            "source": [
                "## **For Loops**"
            ]
        },
        {
            "cell_type": "code",
            "execution_count": 98,
            "metadata": {},
            "outputs": [
                {
                    "name": "stdout",
                    "output_type": "stream",
                    "text": "1\n2\n3\n4\n5\n1\n2\n3\n4\n5\n"
                }
            ],
            "source": [
                "numbers = [1, 2, 3, 4, 5,]\n",
                "for item in numbers:\n",
                "    print (item)\n",
                "i = 0\n",
                "while i \u003c len(numbers):\n",
                "    print(numbers[i])\n",
                "    i = i + 1\n",
                "    "
            ]
        },
        {
            "attachments": {},
            "cell_type": "markdown",
            "metadata": {},
            "source": [
                "**Range function**"
            ]
        },
        {
            "cell_type": "code",
            "execution_count": 94,
            "metadata": {},
            "outputs": [
                {
                    "name": "stdout",
                    "output_type": "stream",
                    "text": "0\n1\n2\n3\n4\n"
                }
            ],
            "source": [
                "# The function can have 1 to 3 arguments.\n",
                "\n",
                "# 1. generate numbers up to a value\n",
                "numbers = range(5)\n",
                "for number in numbers:\n",
                "    print(number)"
            ]
        },
        {
            "attachments": {},
            "cell_type": "markdown",
            "metadata": {},
            "source": [
                "**Tuples**"
            ]
        },
        {
            "cell_type": "code",
            "execution_count": 97,
            "metadata": {},
            "outputs": [],
            "source": [
                "# Immutable (unchangeable) elements\n",
                "numbers = (1, 2, 3)"
            ]
        }
    ]
}
